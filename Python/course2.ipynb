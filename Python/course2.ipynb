{
 "cells": [
  {
   "cell_type": "markdown",
   "metadata": {},
   "source": [
    "# Cours d'introduction pour apprendre les bases\n",
    "\n",
    "\n",
    "## Conditions et boucles\n",
    "\n",
    "Une condition en Python permet d'effectuer un bloc d'instructions en fonction d'un booléen.\n",
    "\n",
    "Une boucle en Python permet de répéter un ensemble d'instructions. À l'aide de variables, on peut faire en sorte que chaque passage dans la boucle soit différent.\n",
    "\n",
    "### Conditions\n",
    "\n",
    "Une condition s'évalue avec `if`, `elif` et `else`, qui correspondent respectivement à \"si\", \"sinon si\" et \"sinon\".\n"
   ]
  },
  {
   "cell_type": "code",
   "execution_count": 12,
   "metadata": {},
   "outputs": [
    {
     "name": "stdout",
     "output_type": "stream",
     "text": [
      "Wow!\n",
      "Nombre float plus petit que 2\n",
      "Nombre float plus petit que 2\n"
     ]
    }
   ],
   "source": [
    "if 2+2==4:\n",
    "    print(\"Wow!\")\n",
    "else:\n",
    "    print(\"Oops\")\n",
    "\n",
    "a = 1.5\n",
    "if a > 2:\n",
    "    print(\"Plus grand que 2\")\n",
    "elif type(a) != int:\n",
    "    print(\"Nombre float plus petit que 2\")\n",
    "else:\n",
    "    print(\"Entier plus petit que 2\")\n",
    "\n",
    "# même chose que :\n",
    "a = 1.5\n",
    "if a > 2:\n",
    "    print(\"Plus grand que 2\")\n",
    "else:\n",
    "    if type(a) != int:\n",
    "        print(\"Nombre float plus petit que 2\")\n",
    "    else:\n",
    "        print(\"Entier plus petit que 2\")"
   ]
  },
  {
   "cell_type": "markdown",
   "metadata": {},
   "source": [
    "### Boucles `while`\n",
    "\n",
    "Les boucles *while*, ou boucles \"tant que\", sont utilisées avec un booléen qui permet de déterminer si la boucle doit se relancer quand un passage est terminé. Notez qu'il faut mettre `:` après le booléen.\n",
    "\n",
    "\"Tant que je gagne, je continuerai à jouer!\"\n",
    "(En disant cela, j'ai le dilemme de soit être coincé dans un cycle éternel de victoires, soit de finir sur une partie perdue)\n",
    "\n",
    "Attention, sans trouver un moyen de sortir de la boucle, elle continuera sans s'arrêter, et cela peut poser problème pour l'ordinateur."
   ]
  },
  {
   "cell_type": "code",
   "execution_count": 4,
   "metadata": {},
   "outputs": [],
   "source": [
    "while False:\n",
    "    print(\"Je suis invisible\")\n",
    "    # cette phrase ne s'affichera jamais car le booléen est Faux avant même l'entrée dans la boucle\n"
   ]
  },
  {
   "cell_type": "markdown",
   "metadata": {},
   "source": [
    "En remplaçant par `while True`, on obtient une boucle infinie, et la phrase \"Je suis invisible\" s'affiche en continu (plus si invisible que ça...).\n",
    "\n",
    "Comment peut-on écrire une boucle while qui n'est pas soit infinie, soit invisible ?\n",
    "\n",
    "#### Exercice 2.1"
   ]
  },
  {
   "cell_type": "code",
   "execution_count": null,
   "metadata": {},
   "outputs": [],
   "source": [
    "a = 1\n",
    "while a <= 10:\n",
    "    print(7*a)\n",
    "    a += 1\n",
    "    # même chose que \n",
    "    # a = a + 1"
   ]
  },
  {
   "cell_type": "markdown",
   "metadata": {},
   "source": [
    "1) Qu'affiche ce code ?\n",
    "2) Un élève a écrit ce code pour répondre à une question. Quelle était la question ?\n",
    "\n",
    "\n",
    "### Boucle `for`\n",
    "\n",
    "Les boucles `for` créent une variable temporaire qui prendra ses valeurs dans une liste, ou un itérable donné.\n",
    "Un itérable (objet sur lequel on peut *itérer*) typique est donné par `range`.\n",
    "\n",
    "- avec trois valeurs, `range(start, stop, pas)` avec `start`, `stop` et `pas` tous entiers (positifs ou néfatifs) donne une liste d'entiers, de `start` inclus, à `stop` exclu avec un *pas* de `pas`."
   ]
  },
  {
   "cell_type": "code",
   "execution_count": 6,
   "metadata": {},
   "outputs": [
    {
     "name": "stdout",
     "output_type": "stream",
     "text": [
      "2\n",
      "4\n",
      "6\n",
      "8\n"
     ]
    }
   ],
   "source": [
    "for valeur in range(2,9,2):\n",
    "    print(valeur)"
   ]
  },
  {
   "cell_type": "markdown",
   "metadata": {},
   "source": [
    "- avec deux valeurs `range(start, stop)` donne une liste d'entiers, de `start` inclus, à `stop` exclu avec un *pas* de 1 par défaut."
   ]
  },
  {
   "cell_type": "code",
   "execution_count": 7,
   "metadata": {},
   "outputs": [
    {
     "name": "stdout",
     "output_type": "stream",
     "text": [
      "2\n",
      "3\n",
      "4\n",
      "5\n",
      "6\n",
      "7\n",
      "8\n"
     ]
    }
   ],
   "source": [
    "for valeur in range(2,9):\n",
    "    print(valeur)"
   ]
  },
  {
   "cell_type": "markdown",
   "metadata": {},
   "source": [
    "- avec seulement une valeur `range(stop)` donne une liste d'entiers, de 0 inclus par défaut, à `stop` exclu avec un *pas* de 1 par défaut."
   ]
  },
  {
   "cell_type": "code",
   "execution_count": 8,
   "metadata": {},
   "outputs": [
    {
     "name": "stdout",
     "output_type": "stream",
     "text": [
      "0\n",
      "1\n",
      "2\n",
      "3\n",
      "4\n",
      "5\n",
      "6\n",
      "7\n",
      "8\n"
     ]
    }
   ],
   "source": [
    "for valeur in range(9):\n",
    "    print(valeur)"
   ]
  },
  {
   "cell_type": "markdown",
   "metadata": {},
   "source": [
    "#### Exercice 2.2\n",
    "\n",
    "Comment écrire une boucle en utilisant `for` et `range`, qui donne le même résultat que dans l'exercice 2.1 ?\n",
    "\n",
    "\n",
    "#### Exercice 2.3\n"
   ]
  },
  {
   "cell_type": "code",
   "execution_count": null,
   "metadata": {},
   "outputs": [],
   "source": [
    "a = 46\n",
    "b = 5\n",
    "q = 0\n",
    "while (a-b) > 0:\n",
    "    a -= b\n",
    "    q += 1\n",
    "print(q,a)"
   ]
  },
  {
   "cell_type": "markdown",
   "metadata": {},
   "source": [
    "1) Qu'affiche ce code ?\n",
    "2) À quoi correspond cette opération, et comment peut-on l'effectuer sur `a` et `b` sans avoir besoin de cette boucle ?\n",
    "3) Pourquoi ne peut-on pas écrire une boucle `for` pour remplacer celle-ci ?\n",
    "\n",
    "### `continue` et `break`\n",
    "\n",
    "Pour finir, deux mots-clés qui sont très utiles quand on écrit des boucles.\n",
    "Ces deux mots s'écrivent seuls et font des choses similaires, donc c'est important de faire la distinction ici.\n",
    "\n",
    "- `continue` saute tout le code jusqu'à la fin de la boucle actuelle, pour revenir au début de la boucle si possible.\n",
    "- `break` sort de la boucle actuelle, et ne revient pas au début.\n",
    "\n",
    "#### Dans une boucle `while`"
   ]
  },
  {
   "cell_type": "code",
   "execution_count": 27,
   "metadata": {},
   "outputs": [
    {
     "name": "stdout",
     "output_type": "stream",
     "text": [
      "1\n",
      "2\n",
      "4\n",
      "5\n",
      "7\n",
      "8\n",
      "10\n",
      "11\n",
      "a fini sur 12\n"
     ]
    }
   ],
   "source": [
    "x = 1\n",
    "while x % 3 != 0:\n",
    "    print(x)\n",
    "    x += 1\n",
    "    if x % 3 == 0 and x % 4 != 0:\n",
    "        x += 1\n",
    "        continue\n",
    "print(\"a fini sur\", x)\n",
    "# n'affiche pas le nombre s'il est multiple de 3\n",
    "# se termine sur le premier multiple de trois qui est aussi un mutliple de 4"
   ]
  },
  {
   "cell_type": "code",
   "execution_count": 28,
   "metadata": {},
   "outputs": [
    {
     "name": "stdout",
     "output_type": "stream",
     "text": [
      "1\n",
      "2\n",
      "3\n",
      "4\n"
     ]
    }
   ],
   "source": [
    "x = 1\n",
    "while x <= 10:\n",
    "    print(x)\n",
    "    x += 1\n",
    "    if x == 5:\n",
    "        break\n",
    "# quitte la boucle quand x atteint 5"
   ]
  },
  {
   "cell_type": "markdown",
   "metadata": {},
   "source": [
    "#### Dans une boucle `for`"
   ]
  },
  {
   "cell_type": "code",
   "execution_count": 29,
   "metadata": {},
   "outputs": [
    {
     "name": "stdout",
     "output_type": "stream",
     "text": [
      "Continue\n",
      "1\n",
      "2\n",
      "3\n",
      "4\n",
      "6\n",
      "7\n",
      "8\n",
      "\n",
      "Break\n",
      "1\n",
      "2\n",
      "3\n",
      "4\n"
     ]
    }
   ],
   "source": [
    "print(\"Continue\")\n",
    "for x in range(1,9):\n",
    "    if x == 5:\n",
    "        continue\n",
    "    print(x)\n",
    "\n",
    "print() # pour sauter une ligne\n",
    "print(\"Break\")\n",
    "for x in range(1,9):\n",
    "    if x == 5:\n",
    "        break\n",
    "    print(x)"
   ]
  }
 ],
 "metadata": {
  "kernelspec": {
   "display_name": "Python 3",
   "language": "python",
   "name": "python3"
  },
  "language_info": {
   "codemirror_mode": {
    "name": "ipython",
    "version": 3
   },
   "file_extension": ".py",
   "mimetype": "text/x-python",
   "name": "python",
   "nbconvert_exporter": "python",
   "pygments_lexer": "ipython3",
   "version": "3.12.3"
  }
 },
 "nbformat": 4,
 "nbformat_minor": 2
}
