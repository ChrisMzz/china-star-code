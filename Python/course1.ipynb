{
 "cells": [
  {
   "cell_type": "markdown",
   "metadata": {},
   "source": [
    "# Cours d'introduction pour apprendre les bases\n",
    "\n",
    "Les cours dans ce site ne vont pas expliquer comment installer Python ou écrire des fichiers. Les informations pour faire tout cela peuvent être trouvées sur [python.org](https://python.org).\n",
    "\n",
    "## Types de données, opérations\n",
    "\n",
    "Dans cette section, on introduira les principaux types de données (*data tyes*) utilisés en Python. Une fonction qu'on utilisera souvent est `print`, qui nous permet d'afficher quelque chose à l'écran :"
   ]
  },
  {
   "cell_type": "code",
   "execution_count": 1,
   "metadata": {},
   "outputs": [
    {
     "name": "stdout",
     "output_type": "stream",
     "text": [
      "Hello World!\n"
     ]
    }
   ],
   "source": [
    "print(\"Hello World!\") # affiche Hello World! à l'écran"
   ]
  },
  {
   "cell_type": "markdown",
   "metadata": {},
   "source": [
    "Remarquez qu'on peut écrire un *commentaire* sur la même ligne, déclaré avec un `#`. J'utiliserai souvent ça pour expliquer ce que font certaines lignes.\n",
    "\n",
    "### Nombres\n",
    "\n",
    "On étudiera principalement deux types de nombres en Python. \n",
    "Les `int`, ou nombres entiers, s'écrivent simplement comme on les écrirait en chiffres. Avec ces nombres, on peut additionner, soustraire, multiplier, diviser, passer à l'exposant... comme ceci : "
   ]
  },
  {
   "cell_type": "code",
   "execution_count": 2,
   "metadata": {},
   "outputs": [
    {
     "name": "stdout",
     "output_type": "stream",
     "text": [
      "5\n",
      "6\n",
      "8\n",
      "4.666666666666667\n"
     ]
    }
   ],
   "source": [
    "print(2+3) # deux plus trois\n",
    "print(2*3) # deux fois trois\n",
    "print(2**3) # deux à la puissance trois\n",
    "\n",
    "print(14/3) # quatorze divisé par trois"
   ]
  },
  {
   "cell_type": "markdown",
   "metadata": {},
   "source": [
    "Ici, le dernier résultat, de `14/3`, est un nombre à virgule. Pour des nombres comme $14/3$ qui ne sont pas des entiers, on tombera parfois sur des nombres avec une infinité de chiffres après la virgule. C'est pour cela qu'on verra parfois des arrondis après un certain nombre de chiffres, comme c'est le cas ici.\n",
    "\n",
    "Les rationnels non entiers sont ainsi représentés par un nouveau type de données, les `float`.\n",
    "On peut vérifier quel est le type de données d'un nombre avec `type` : "
   ]
  },
  {
   "cell_type": "code",
   "execution_count": 4,
   "metadata": {},
   "outputs": [
    {
     "name": "stdout",
     "output_type": "stream",
     "text": [
      "<class 'int'>\n",
      "<class 'float'>\n",
      "<class 'float'>\n"
     ]
    }
   ],
   "source": [
    "print(type(14))\n",
    "print(type(14/3))\n",
    "print(type(14/1))\n",
    "\n"
   ]
  },
  {
   "cell_type": "markdown",
   "metadata": {},
   "source": [
    "Attention, ici on a vérifié quel était le type de `14/1` qui devrait donner $14$, un entier, mais Python suppose que le résultat d'une division donnera un `float`, car c'est plus mathématiquement correct avec l'opérateur `/`.\n",
    "\n",
    "Pour effectuer des divisions sans quitter les entiers, on utilise plutôt la division euclidienne. Division euclidienne de $a$ par $b$ : \n",
    "$$a = b \\times q + r$$\n",
    "où $q$ est le quotient, et $r$ est le reste (on a toujours $0 < r < b$).\n",
    "\n",
    "Le quotient de la division euclidenne s'obtient avec `//` et le reste avec `%`."
   ]
  },
  {
   "cell_type": "code",
   "execution_count": 6,
   "metadata": {},
   "outputs": [
    {
     "name": "stdout",
     "output_type": "stream",
     "text": [
      "4\n",
      "2\n"
     ]
    }
   ],
   "source": [
    "print(14//3)\n",
    "print(14%3)"
   ]
  },
  {
   "cell_type": "markdown",
   "metadata": {},
   "source": [
    "On a en effet $14 = 3 \\times 4 + 2$.\n",
    "\n",
    "Tout ce qui a été dit jusqu'à présent est toujours valable avec des valeurs stockées dans des *variables*.\n",
    "Pour déclarer une variable, on écrit :"
   ]
  },
  {
   "cell_type": "code",
   "execution_count": 8,
   "metadata": {},
   "outputs": [
    {
     "name": "stdout",
     "output_type": "stream",
     "text": [
      "-1.5\n"
     ]
    }
   ],
   "source": [
    "a = 2\n",
    "b=0.5\n",
    "p = 1\n",
    "print(b-a)"
   ]
  },
  {
   "cell_type": "markdown",
   "metadata": {},
   "source": [
    "`a` est le nom de la première variable et $2$ est sa valeur. Comme on peut voir, la soustraction donne un nombre négatif ici, qui est de type `float`. \n",
    "Le nom d'une variable ne peut pas commencer par un chiffre, et ne peut pas contenir de symboles à part pour `_`. C'est d'ailleurs très commun, en nommant des variables, de séparer les mots par des `_`.\n",
    "\n",
    "### Chaînes de caractères\n",
    "\n",
    "On peut affecter d'autres valeurs à des variables, comme des chaînes de caractères (*string*, ou `str`). "
   ]
  },
  {
   "cell_type": "code",
   "execution_count": 10,
   "metadata": {},
   "outputs": [
    {
     "name": "stdout",
     "output_type": "stream",
     "text": [
      "Hello World!\n"
     ]
    }
   ],
   "source": [
    "texte = \"Hello World!\"\n",
    "print(texte)"
   ]
  },
  {
   "cell_type": "markdown",
   "metadata": {},
   "source": [
    "Les opérations qu'on peut effectuer entre deux objects de type *string* sont limitées, mais la plus utile est sans doute l'opérateur `+`, qui permet de concaténer. "
   ]
  },
  {
   "cell_type": "code",
   "execution_count": 11,
   "metadata": {},
   "outputs": [
    {
     "name": "stdout",
     "output_type": "stream",
     "text": [
      "Hippopotame\n"
     ]
    }
   ],
   "source": [
    "texte = \"Hippo\" + \"potame\"\n",
    "print(texte)"
   ]
  },
  {
   "cell_type": "markdown",
   "metadata": {},
   "source": [
    "On peut aussi convertir les types de données, avec le nom du type. Cette conversion s'appelle un *transtypage*. Attention, il faut vérifier que le type qu'on veut obtenir est valide pour la donnée d'entrée."
   ]
  },
  {
   "cell_type": "code",
   "execution_count": 13,
   "metadata": {},
   "outputs": [
    {
     "name": "stdout",
     "output_type": "stream",
     "text": [
      "<class 'str'>\n",
      "<class 'int'>\n",
      "<class 'float'>\n"
     ]
    },
    {
     "ename": "ValueError",
     "evalue": "invalid literal for int() with base 10: 'Hello World!'",
     "output_type": "error",
     "traceback": [
      "\u001b[1;31m---------------------------------------------------------------------------\u001b[0m",
      "\u001b[1;31mValueError\u001b[0m                                Traceback (most recent call last)",
      "Cell \u001b[1;32mIn[13], line 7\u001b[0m\n\u001b[0;32m      3\u001b[0m \u001b[38;5;28mprint\u001b[39m(\u001b[38;5;28mtype\u001b[39m( \u001b[38;5;28mint\u001b[39m(\u001b[38;5;124m\"\u001b[39m\u001b[38;5;124m123\u001b[39m\u001b[38;5;124m\"\u001b[39m \u001b[38;5;241m+\u001b[39m \u001b[38;5;124m\"\u001b[39m\u001b[38;5;124m456\u001b[39m\u001b[38;5;124m\"\u001b[39m) ))\n\u001b[0;32m      5\u001b[0m \u001b[38;5;28mprint\u001b[39m(\u001b[38;5;28mtype\u001b[39m( \u001b[38;5;28mfloat\u001b[39m( \u001b[38;5;241m1\u001b[39m\u001b[38;5;241m+\u001b[39m\u001b[38;5;241m2\u001b[39m ) ))\n\u001b[1;32m----> 7\u001b[0m \u001b[38;5;28mprint\u001b[39m(\u001b[38;5;28mtype\u001b[39m( \u001b[38;5;28;43mint\u001b[39;49m\u001b[43m(\u001b[49m\u001b[38;5;124;43m\"\u001b[39;49m\u001b[38;5;124;43mHello World!\u001b[39;49m\u001b[38;5;124;43m\"\u001b[39;49m\u001b[43m)\u001b[49m ))\n",
      "\u001b[1;31mValueError\u001b[0m: invalid literal for int() with base 10: 'Hello World!'"
     ]
    }
   ],
   "source": [
    "print(type( str(14/3) ))\n",
    "\n",
    "print(type( int(\"123\" + \"456\") ))\n",
    "\n",
    "print(type( float( 1+2 ) ))\n",
    "\n",
    "print(type( int(\"Hello World!\") ))"
   ]
  },
  {
   "cell_type": "markdown",
   "metadata": {},
   "source": [
    "Une dernière fonctionnalité de `print` qu'on n'a pas utilisé jusqu'à présent est l'option d'afficher plusieurs valeurs, séparés par des virgules."
   ]
  },
  {
   "cell_type": "code",
   "execution_count": 9,
   "metadata": {},
   "outputs": [
    {
     "name": "stdout",
     "output_type": "stream",
     "text": [
      "Deux fois trois donne 6\n",
      "Deux fois trois donne6\n"
     ]
    },
    {
     "ename": "TypeError",
     "evalue": "can only concatenate str (not \"int\") to str",
     "output_type": "error",
     "traceback": [
      "\u001b[1;31m---------------------------------------------------------------------------\u001b[0m",
      "\u001b[1;31mTypeError\u001b[0m                                 Traceback (most recent call last)",
      "Cell \u001b[1;32mIn[9], line 3\u001b[0m\n\u001b[0;32m      1\u001b[0m \u001b[38;5;28mprint\u001b[39m(\u001b[38;5;124m\"\u001b[39m\u001b[38;5;124mDeux fois trois donne\u001b[39m\u001b[38;5;124m\"\u001b[39m, \u001b[38;5;241m2\u001b[39m\u001b[38;5;241m*\u001b[39m\u001b[38;5;241m3\u001b[39m)\n\u001b[0;32m      2\u001b[0m \u001b[38;5;28mprint\u001b[39m(\u001b[38;5;124m\"\u001b[39m\u001b[38;5;124mDeux fois trois donne\u001b[39m\u001b[38;5;124m\"\u001b[39m \u001b[38;5;241m+\u001b[39m \u001b[38;5;28mstr\u001b[39m(\u001b[38;5;241m2\u001b[39m\u001b[38;5;241m*\u001b[39m\u001b[38;5;241m3\u001b[39m))\n\u001b[1;32m----> 3\u001b[0m \u001b[38;5;28mprint\u001b[39m(\u001b[38;5;124;43m\"\u001b[39;49m\u001b[38;5;124;43mDeux fois trois donne\u001b[39;49m\u001b[38;5;124;43m\"\u001b[39;49m\u001b[43m \u001b[49m\u001b[38;5;241;43m+\u001b[39;49m\u001b[43m \u001b[49m\u001b[38;5;241;43m2\u001b[39;49m\u001b[38;5;241;43m*\u001b[39;49m\u001b[38;5;241;43m3\u001b[39;49m)\n",
      "\u001b[1;31mTypeError\u001b[0m: can only concatenate str (not \"int\") to str"
     ]
    }
   ],
   "source": [
    "print(\"Deux fois trois donne\", 2*3)\n",
    "print(\"Deux fois trois donne\" + str(2*3))\n",
    "print(\"Deux fois trois donne\" + 2*3)\n"
   ]
  },
  {
   "cell_type": "markdown",
   "metadata": {},
   "source": [
    "La raison pour laquelle on obtient une erreur sur le troisième cas nécessite une meilleure compréhension des chaînes de caractères. \n",
    "- Dans le premier cas, on affiche 2 valeurs, la valeur de `\"Deux fois trois donne\"` et la valeur de `2+3`. L'interpréteur Python évalue chaque valeur et la transtype en *string* si nécessaire. C'est le cas pour la deuxième valeur, qui est de type `int` (nombre entier).\n",
    "- Dans le deuxième cas, on affiche 1 valeur, la valeur de `\"Deux fois trois donne\" + str(2*3)`. Quand l'interpréteur Python évalue ce terme, il obtient d'abord `\"Deux fois trois donne6\"`, puis vérifie si le transtypage à `str` est nécessaire (elle ne l'est pas car notre opération donne déjà un *string*).\n",
    "- Dans le troisième cas, on affiche 1 valeur, la valeur de `\"Deux fois trois donne\" + 2*3`. Quand l'interpréteur Python évalue ce terme, il essaie d'utiliser l'opérateur `+` entre les deux termes. Mais les opérations entre des `str` et des `int` n'ont pas été implémentées, comme le précise le message d'erreur.\n",
    "\n",
    "Dernièrement, on peut multiplier des chaînes de caractères par des entiers pour les concaténer à eux-mêmes."
   ]
  },
  {
   "cell_type": "code",
   "execution_count": 14,
   "metadata": {},
   "outputs": [
    {
     "name": "stdout",
     "output_type": "stream",
     "text": [
      "Je suis dans un placard dans un placard dans un placard \n"
     ]
    }
   ],
   "source": [
    "a = \"Je suis \"\n",
    "b = \"dans un placard \"\n",
    "print(a+b*3)"
   ]
  },
  {
   "cell_type": "markdown",
   "metadata": {},
   "source": [
    "### Booléens\n",
    "\n",
    "Les *booléens* (type `bool`) sont une des deux valeurs `True` ou `False`.\n",
    "\n",
    "On obtient un booléen en évaluant une expression.\n"
   ]
  },
  {
   "cell_type": "code",
   "execution_count": 18,
   "metadata": {},
   "outputs": [
    {
     "name": "stdout",
     "output_type": "stream",
     "text": [
      "2+2 == 4 : True\n",
      "3 < 2 : False\n",
      "True or False : True\n",
      "True and False : False\n",
      "(32 <= 33) or (33 % 3 != 0) : False\n",
      "(32 <= 33) and (33 % 3 != 0) : False\n"
     ]
    }
   ],
   "source": [
    "print(\"2+2 == 4 :\", 2+2 == 4)\n",
    "print(\"3 < 2 :\", 3 < 2)\n",
    "print(\"True or False :\", True or False)\n",
    "print(\"True and False :\", True and False)\n",
    "print(\"(32 <= 33) or (33 % 3 != 0) :\", (32 <= 33) and (33 % 3 != 0))\n",
    "print(\"(32 <= 33) and (33 % 3 != 0) :\", (32 <= 33) and (33 % 3 != 0))"
   ]
  },
  {
   "cell_type": "markdown",
   "metadata": {},
   "source": [
    "On peut évaluer des expression avec `<`, `<=`, `>`, `>=`, `==` ou `!=` (\"n'est pas égal\"), mais on peut aussi évaluer en utilisant d'autres méthodes qu'on n'explorera pas pour l'instant.\n",
    "\n",
    "Un dernier opérateur est l'opérateur `not`, qui permet de changer la valeur d'un booléen."
   ]
  },
  {
   "cell_type": "code",
   "execution_count": 22,
   "metadata": {},
   "outputs": [
    {
     "name": "stdout",
     "output_type": "stream",
     "text": [
      "False\n",
      "True\n",
      "False\n"
     ]
    }
   ],
   "source": [
    "print(not True)\n",
    "print(not False)\n",
    "print(not not not not not (2+2 == 4))"
   ]
  }
 ],
 "metadata": {
  "kernelspec": {
   "display_name": "Python 3",
   "language": "python",
   "name": "python3"
  },
  "language_info": {
   "codemirror_mode": {
    "name": "ipython",
    "version": 3
   },
   "file_extension": ".py",
   "mimetype": "text/x-python",
   "name": "python",
   "nbconvert_exporter": "python",
   "pygments_lexer": "ipython3",
   "version": "3.12.3"
  }
 },
 "nbformat": 4,
 "nbformat_minor": 2
}
